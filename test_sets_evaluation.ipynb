{
 "cells": [
  {
   "cell_type": "code",
   "execution_count": 1,
   "id": "95610bbc-e875-4ffb-ab4a-1f1fdc001e50",
   "metadata": {},
   "outputs": [],
   "source": [
    "import os\n",
    "import numpy as np\n",
    "from utils.evaluation_utils import test_evaluation, test_pp_complex_evaluation"
   ]
  },
  {
   "cell_type": "code",
   "execution_count": 2,
   "id": "7b9ffe9e-4003-4ab1-82d3-91a9b68cbb47",
   "metadata": {},
   "outputs": [],
   "source": [
    "### Results on the 600 high-resolution PDB structures ###\n",
    "#Define paths\n",
    "ref_path = 'prediction_results/600_test_set/reference/'\n",
    "hydra_prot_path = 'prediction_results/600_test_set/ours_600/'\n",
    "galaxy_cnn_path = 'prediction_results/600_test_set/GCNN_600/'\n",
    "accutar_path = 'prediction_results/600_test_set/Accutar_600/'\n",
    "\n",
    "ref_path = '/home/zami/Desktop/HydraProt/prediction_results/600_test_set/reference/'\n",
    "hydra_prot_path = '/home/zami/Desktop/HydraProt/prediction_results/600_test_set/ours_600/'\n",
    "galaxy_cnn_path = '/home/zami/Desktop/HydraProt/prediction_results/600_test_set/GCNN_600/'\n",
    "accutar_path = '/home/zami/Desktop/HydraProt/prediction_results/600_test_set/Accutar_600/'\n",
    "#Define parameters\n",
    "radius = 4\n",
    "thresholds=(1.5,1.0,0.5)"
   ]
  },
  {
   "cell_type": "markdown",
   "id": "ffb7f0e7-6756-4e10-b276-68aaaa888f77",
   "metadata": {},
   "source": [
    "### HydraProt Results"
   ]
  },
  {
   "cell_type": "code",
   "execution_count": 3,
   "id": "6e80fbbc-2827-4d4a-9ae5-a6502b7b2903",
   "metadata": {},
   "outputs": [],
   "source": [
    "ref_paths, hydra_prot_paths = [], []\n",
    "for i in os.listdir(ref_path):\n",
    "    pdb_id = i.split('.')[0]\n",
    "    temp_path = f'{hydra_prot_path}{pdb_id}_waters.pdb'\n",
    "    if os.path.exists(temp_path):\n",
    "        ref_paths.append(f'{ref_path}{i}')\n",
    "        hydra_prot_paths.append(f'{hydra_prot_path}{pdb_id}_waters.pdb')"
   ]
  },
  {
   "cell_type": "code",
   "execution_count": 4,
   "id": "57290f98-6b74-4646-91cc-2d902c414c91",
   "metadata": {},
   "outputs": [
    {
     "name": "stdout",
     "output_type": "stream",
     "text": [
      "Threshold  Recall  Precision    F1     RMSD\n",
      "   1.5     0.777     0.469    0.585   0.628    \n",
      "   1.0     0.679     0.409    0.511   0.483    \n",
      "   0.5     0.454     0.274    0.342   0.303    \n"
     ]
    }
   ],
   "source": [
    "#HydraProt results for high recall predictions with cap at 0.05\n",
    "match_results, rmsd = test_evaluation(hydra_prot_paths, ref_paths, 0.05, radius, thresholds)\n",
    "a = np.sum(match_results,0)\n",
    "for i, skip in enumerate(thresholds):\n",
    "    precision, recall = a[3*i]/a[(3*i)+1], a[3*i]/a[(3*i)+2]\n",
    "    F1 = (2*precision*recall)/(precision+recall)\n",
    "    a[3*i:3+3*i] = recall, precision, F1\n",
    "\n",
    "print(f'Threshold  Recall  Precision    F1     RMSD')\n",
    "for k in range(3):\n",
    "    r, p, f, d = round(a[k*3],3), round(a[k*3+1],3), round(a[k*3+2],3), round(np.sqrt(np.sum(rmsd[k])/len(rmsd[k])),3)\n",
    "    print(f'{thresholds[k]:^10}{\"%1.3f\"%r:^8}{\"%1.3f\"%p:^12}{\"%1.3f\"%f}{\"%1.3f\"%d:^12}')"
   ]
  },
  {
   "cell_type": "code",
   "execution_count": 5,
   "id": "afbe412a-69d4-4204-81d2-5ff6e315ace8",
   "metadata": {},
   "outputs": [
    {
     "name": "stdout",
     "output_type": "stream",
     "text": [
      "Threshold  Recall  Precision    F1     RMSD\n",
      "   1.5     0.598     0.621    0.609   0.556    \n",
      "   1.0     0.547     0.568    0.557   0.445    \n",
      "   0.5     0.400     0.416    0.408   0.295    \n"
     ]
    }
   ],
   "source": [
    "#HydraProt results for high recall predictions with cap at 0.11\n",
    "match_results, rmsd = test_evaluation(hydra_prot_paths, ref_paths, 0.11, radius, thresholds)\n",
    "a = np.sum(match_results,0)\n",
    "for i, skip in enumerate(thresholds):\n",
    "    precision, recall = a[3*i]/a[(3*i)+1], a[3*i]/a[(3*i)+2]\n",
    "    F1 = (2*precision*recall)/(precision+recall)\n",
    "    a[3*i:3+3*i] = recall, precision, F1\n",
    "\n",
    "print(f'Threshold  Recall  Precision    F1     RMSD')\n",
    "for k in range(3):\n",
    "    r, p, f, d = round(a[k*3],3), round(a[k*3+1],3), round(a[k*3+2],3), round(np.sqrt(np.sum(rmsd[k])/len(rmsd[k])),3)\n",
    "    print(f'{thresholds[k]:^10}{\"%1.3f\"%r:^8}{\"%1.3f\"%p:^12}{\"%1.3f\"%f}{\"%1.3f\"%d:^12}')"
   ]
  },
  {
   "cell_type": "code",
   "execution_count": 6,
   "id": "5205044c-7e3b-4cc7-ae39-4173dab7a92b",
   "metadata": {},
   "outputs": [
    {
     "name": "stdout",
     "output_type": "stream",
     "text": [
      "Threshold  Recall  Precision    F1     RMSD\n",
      "   1.5     0.425     0.747    0.541   0.488    \n",
      "   1.0     0.401     0.705    0.512   0.406    \n",
      "   0.5     0.319     0.560    0.406   0.285    \n"
     ]
    }
   ],
   "source": [
    "#HydraProt results for high recall predictions with cap at 0.19\n",
    "match_results, rmsd = test_evaluation(hydra_prot_paths, ref_paths, 0.19, radius, thresholds)\n",
    "a = np.sum(match_results,0)\n",
    "for i, skip in enumerate(thresholds):\n",
    "    precision, recall = a[3*i]/a[(3*i)+1], a[3*i]/a[(3*i)+2]\n",
    "    F1 = (2*precision*recall)/(precision+recall)\n",
    "    a[3*i:3+3*i] = recall, precision, F1\n",
    "\n",
    "print(f'Threshold  Recall  Precision    F1     RMSD')\n",
    "for k in range(3):\n",
    "    r, p, f, d = round(a[k*3],3), round(a[k*3+1],3), round(a[k*3+2],3), round(np.sqrt(np.sum(rmsd[k])/len(rmsd[k])),3)\n",
    "    print(f'{thresholds[k]:^10}{\"%1.3f\"%r:^8}{\"%1.3f\"%p:^12}{\"%1.3f\"%f}{\"%1.3f\"%d:^12}')"
   ]
  },
  {
   "cell_type": "markdown",
   "id": "5c9e7dcd-14de-4f3d-bac1-da1c7604874a",
   "metadata": {
    "tags": []
   },
   "source": [
    "### Galaxy-CNN Results"
   ]
  },
  {
   "cell_type": "code",
   "execution_count": 7,
   "id": "25465369-2974-473d-865c-5b3fb18e4f6a",
   "metadata": {},
   "outputs": [],
   "source": [
    "ref_paths, galaxy_cnn_paths = [], []\n",
    "for i in os.listdir(ref_path):\n",
    "    pdb_id = i.split('.')[0]\n",
    "    temp_path = f'{galaxy_cnn_path}{pdb_id}_waters.pdb'\n",
    "    if os.path.exists(temp_path):\n",
    "        ref_paths.append(f'{ref_path}{i}')\n",
    "        galaxy_cnn_paths.append(f'{galaxy_cnn_path}{pdb_id}_waters.pdb')"
   ]
  },
  {
   "cell_type": "code",
   "execution_count": 8,
   "id": "575a5d31-fb4d-4d98-95a4-1205d14d92c4",
   "metadata": {},
   "outputs": [
    {
     "name": "stdout",
     "output_type": "stream",
     "text": [
      "Threshold  Recall  Precision    F1     RMSD\n",
      "   1.5     0.765     0.412    0.536   0.706    \n",
      "   1.0     0.641     0.345    0.449   0.560    \n",
      "   0.5     0.333     0.180    0.233   0.345    \n"
     ]
    }
   ],
   "source": [
    "#Galaxy-CNN results for high recall predictions with cap at 34\n",
    "match_results, rmsd = test_evaluation(galaxy_cnn_paths, ref_paths, 34, radius, thresholds)\n",
    "a = np.sum(match_results,0)\n",
    "for i, skip in enumerate(thresholds):\n",
    "    precision, recall = a[3*i]/a[(3*i)+1], a[3*i]/a[(3*i)+2]\n",
    "    F1 = (2*precision*recall)/(precision+recall)\n",
    "    a[3*i:3+3*i] = recall, precision, F1\n",
    "\n",
    "print(f'Threshold  Recall  Precision    F1     RMSD')\n",
    "for k in range(3):\n",
    "    r, p, f, d = round(a[k*3],3), round(a[k*3+1],3), round(a[k*3+2],3), round(np.sqrt(np.sum(rmsd[k])/len(rmsd[k])),3)\n",
    "    print(f'{thresholds[k]:^10}{\"%1.3f\"%r:^8}{\"%1.3f\"%p:^12}{\"%1.3f\"%f}{\"%1.3f\"%d:^12}')"
   ]
  },
  {
   "cell_type": "code",
   "execution_count": 9,
   "id": "14ad7442-ab91-4423-a2fd-d32f8a1aa889",
   "metadata": {},
   "outputs": [
    {
     "name": "stdout",
     "output_type": "stream",
     "text": [
      "Threshold  Recall  Precision    F1     RMSD\n",
      "   1.5     0.693     0.496    0.578   0.685    \n",
      "   1.0     0.593     0.424    0.495   0.550    \n",
      "   0.5     0.319     0.228    0.266   0.344    \n"
     ]
    }
   ],
   "source": [
    "#Galaxy-CNN results for high recall predictions with cap at 38\n",
    "match_results, rmsd = test_evaluation(galaxy_cnn_paths, ref_paths, 38, radius, thresholds)\n",
    "a = np.sum(match_results,0)\n",
    "for i, skip in enumerate(thresholds):\n",
    "    precision, recall = a[3*i]/a[(3*i)+1], a[3*i]/a[(3*i)+2]\n",
    "    F1 = (2*precision*recall)/(precision+recall)\n",
    "    a[3*i:3+3*i] = recall, precision, F1\n",
    "\n",
    "print(f'Threshold  Recall  Precision    F1     RMSD')\n",
    "for k in range(3):\n",
    "    r, p, f, d = round(a[k*3],3), round(a[k*3+1],3), round(a[k*3+2],3), round(np.sqrt(np.sum(rmsd[k])/len(rmsd[k])),3)\n",
    "    print(f'{thresholds[k]:^10}{\"%1.3f\"%r:^8}{\"%1.3f\"%p:^12}{\"%1.3f\"%f}{\"%1.3f\"%d:^12}')"
   ]
  },
  {
   "cell_type": "code",
   "execution_count": 10,
   "id": "248dcbd5-8ef3-4e01-b24d-122de94919a3",
   "metadata": {},
   "outputs": [
    {
     "name": "stdout",
     "output_type": "stream",
     "text": [
      "Threshold  Recall  Precision    F1     RMSD\n",
      "   1.5     0.587     0.597    0.592   0.655    \n",
      "   1.0     0.516     0.525    0.520   0.534    \n",
      "   0.5     0.292     0.297    0.295   0.342    \n"
     ]
    }
   ],
   "source": [
    "#Galaxy-CNN results for high recall predictions with cap at 42\n",
    "match_results, rmsd = test_evaluation(galaxy_cnn_paths, ref_paths, 42, radius, thresholds)\n",
    "a = np.sum(match_results,0)\n",
    "for i, skip in enumerate(thresholds):\n",
    "    precision, recall = a[3*i]/a[(3*i)+1], a[3*i]/a[(3*i)+2]\n",
    "    F1 = (2*precision*recall)/(precision+recall)\n",
    "    a[3*i:3+3*i] = recall, precision, F1\n",
    "\n",
    "print(f'Threshold  Recall  Precision    F1     RMSD')\n",
    "for k in range(3):\n",
    "    r, p, f, d = round(a[k*3],3), round(a[k*3+1],3), round(a[k*3+2],3), round(np.sqrt(np.sum(rmsd[k])/len(rmsd[k])),3)\n",
    "    print(f'{thresholds[k]:^10}{\"%1.3f\"%r:^8}{\"%1.3f\"%p:^12}{\"%1.3f\"%f}{\"%1.3f\"%d:^12}')"
   ]
  },
  {
   "cell_type": "markdown",
   "id": "dee6665f-5e45-4a37-8633-7099e0c9fef8",
   "metadata": {},
   "source": [
    "### Accutar Results"
   ]
  },
  {
   "cell_type": "code",
   "execution_count": 11,
   "id": "54776e97-299a-45f2-8b14-1004702e82f1",
   "metadata": {},
   "outputs": [],
   "source": [
    "ref_paths, accutar_paths = [], []\n",
    "for i in os.listdir(ref_path):\n",
    "    pdb_id = i.split('.')[0]\n",
    "    temp_path = f'{accutar_path}{pdb_id}_waters.pdb'\n",
    "    if os.path.exists(temp_path):\n",
    "        ref_paths.append(f'{ref_path}{i}')\n",
    "        accutar_paths.append(f'{accutar_path}{pdb_id}_waters.pdb')"
   ]
  },
  {
   "cell_type": "code",
   "execution_count": 12,
   "id": "051cfe0a-76bc-4ae4-8437-a428272757ae",
   "metadata": {},
   "outputs": [
    {
     "name": "stdout",
     "output_type": "stream",
     "text": [
      "Threshold  Recall  Precision    F1     RMSD\n",
      "   1.5     0.540     0.453    0.493   0.710    \n",
      "   1.0     0.438     0.367    0.399   0.512    \n",
      "   0.5     0.270     0.227    0.247   0.301    \n"
     ]
    }
   ],
   "source": [
    "#Accutar results for high recall predictions without cap\n",
    "match_results, rmsd = test_evaluation(accutar_paths, ref_paths, 0, radius, thresholds)\n",
    "a = np.sum(match_results,0)\n",
    "for i, skip in enumerate(thresholds):\n",
    "    precision, recall = a[3*i]/a[(3*i)+1], a[3*i]/a[(3*i)+2]\n",
    "    F1 = (2*precision*recall)/(precision+recall)\n",
    "    a[3*i:3+3*i] = recall, precision, F1\n",
    "\n",
    "print(f'Threshold  Recall  Precision    F1     RMSD')\n",
    "for k in range(3):\n",
    "    r, p, f, d = round(a[k*3],3), round(a[k*3+1],3), round(a[k*3+2],3), round(np.sqrt(np.sum(rmsd[k])/len(rmsd[k])),3)\n",
    "    print(f'{thresholds[k]:^10}{\"%1.3f\"%r:^8}{\"%1.3f\"%p:^12}{\"%1.3f\"%f}{\"%1.3f\"%d:^12}')"
   ]
  },
  {
   "cell_type": "code",
   "execution_count": 13,
   "id": "fb4ceb4f-6cda-4b27-8f13-ea4f30e0a3e7",
   "metadata": {},
   "outputs": [],
   "source": [
    "#Define parameters\n",
    "radius = 3.25"
   ]
  },
  {
   "cell_type": "markdown",
   "id": "01f4e753",
   "metadata": {},
   "source": [
    "### HydraProt Results, radius 3.25 Å"
   ]
  },
  {
   "cell_type": "code",
   "execution_count": 14,
   "id": "5d3fe304",
   "metadata": {},
   "outputs": [],
   "source": [
    "ref_paths, hydra_prot_paths = [], []\n",
    "for i in os.listdir(ref_path):\n",
    "    pdb_id = i.split('.')[0]\n",
    "    temp_path = f'{hydra_prot_path}{pdb_id}_waters.pdb'\n",
    "    if os.path.exists(temp_path):\n",
    "        ref_paths.append(f'{ref_path}{i}')\n",
    "        hydra_prot_paths.append(f'{hydra_prot_path}{pdb_id}_waters.pdb')"
   ]
  },
  {
   "cell_type": "code",
   "execution_count": 15,
   "id": "ab5bbfb5",
   "metadata": {},
   "outputs": [
    {
     "name": "stdout",
     "output_type": "stream",
     "text": [
      "Threshold  Recall  Precision    F1     RMSD\n",
      "   1.5     0.838     0.493    0.620   0.572    \n",
      "   1.0     0.760     0.447    0.563   0.456    \n",
      "   0.5     0.543     0.319    0.402   0.297    \n"
     ]
    }
   ],
   "source": [
    "#HydraProt results for high recall predictions with cap at 0.05\n",
    "match_results, rmsd = test_evaluation(hydra_prot_paths, ref_paths, 0.05, radius, thresholds)\n",
    "a = np.sum(match_results,0)\n",
    "for i, skip in enumerate(thresholds):\n",
    "    precision, recall = a[3*i]/a[(3*i)+1], a[3*i]/a[(3*i)+2]\n",
    "    F1 = (2*precision*recall)/(precision+recall)\n",
    "    a[3*i:3+3*i] = recall, precision, F1\n",
    "\n",
    "print(f'Threshold  Recall  Precision    F1     RMSD')\n",
    "for k in range(3):\n",
    "    r, p, f, d = round(a[k*3],3), round(a[k*3+1],3), round(a[k*3+2],3), round(np.sqrt(np.sum(rmsd[k])/len(rmsd[k])),3)\n",
    "    print(f'{thresholds[k]:^10}{\"%1.3f\"%r:^8}{\"%1.3f\"%p:^12}{\"%1.3f\"%f}{\"%1.3f\"%d:^12}')"
   ]
  },
  {
   "cell_type": "code",
   "execution_count": 16,
   "id": "a0223701",
   "metadata": {},
   "outputs": [
    {
     "name": "stdout",
     "output_type": "stream",
     "text": [
      "Threshold  Recall  Precision    F1     RMSD\n",
      "   1.5     0.727     0.615    0.667   0.531    \n",
      "   1.0     0.675     0.571    0.619   0.434    \n",
      "   0.5     0.506     0.428    0.464   0.293    \n"
     ]
    }
   ],
   "source": [
    "#HydraProt results for high recall predictions with cap at 0.11\n",
    "match_results, rmsd = test_evaluation(hydra_prot_paths, ref_paths, 0.11, radius, thresholds)\n",
    "a = np.sum(match_results,0)\n",
    "for i, skip in enumerate(thresholds):\n",
    "    precision, recall = a[3*i]/a[(3*i)+1], a[3*i]/a[(3*i)+2]\n",
    "    F1 = (2*precision*recall)/(precision+recall)\n",
    "    a[3*i:3+3*i] = recall, precision, F1\n",
    "\n",
    "print(f'Threshold  Recall  Precision    F1     RMSD')\n",
    "for k in range(3):\n",
    "    r, p, f, d = round(a[k*3],3), round(a[k*3+1],3), round(a[k*3+2],3), round(np.sqrt(np.sum(rmsd[k])/len(rmsd[k])),3)\n",
    "    print(f'{thresholds[k]:^10}{\"%1.3f\"%r:^8}{\"%1.3f\"%p:^12}{\"%1.3f\"%f}{\"%1.3f\"%d:^12}')"
   ]
  },
  {
   "cell_type": "code",
   "execution_count": 17,
   "id": "3e8cd06a",
   "metadata": {},
   "outputs": [
    {
     "name": "stdout",
     "output_type": "stream",
     "text": [
      "Threshold  Recall  Precision    F1     RMSD\n",
      "   1.5     0.542     0.737    0.625   0.475    \n",
      "   1.0     0.516     0.701    0.594   0.400    \n",
      "   0.5     0.413     0.562    0.476   0.284    \n"
     ]
    }
   ],
   "source": [
    "#HydraProt results for high recall predictions with cap at 0.19\n",
    "match_results, rmsd = test_evaluation(hydra_prot_paths, ref_paths, 0.19, radius, thresholds)\n",
    "a = np.sum(match_results,0)\n",
    "for i, skip in enumerate(thresholds):\n",
    "    precision, recall = a[3*i]/a[(3*i)+1], a[3*i]/a[(3*i)+2]\n",
    "    F1 = (2*precision*recall)/(precision+recall)\n",
    "    a[3*i:3+3*i] = recall, precision, F1\n",
    "\n",
    "print(f'Threshold  Recall  Precision    F1     RMSD')\n",
    "for k in range(3):\n",
    "    r, p, f, d = round(a[k*3],3), round(a[k*3+1],3), round(a[k*3+2],3), round(np.sqrt(np.sum(rmsd[k])/len(rmsd[k])),3)\n",
    "    print(f'{thresholds[k]:^10}{\"%1.3f\"%r:^8}{\"%1.3f\"%p:^12}{\"%1.3f\"%f}{\"%1.3f\"%d:^12}')"
   ]
  },
  {
   "cell_type": "markdown",
   "id": "dc1f5fd0",
   "metadata": {},
   "source": [
    "### Galaxy-CNN Results, radius 3.25 Å"
   ]
  },
  {
   "cell_type": "code",
   "execution_count": 18,
   "id": "9ae5f18e",
   "metadata": {},
   "outputs": [],
   "source": [
    "ref_paths, galaxy_cnn_paths = [], []\n",
    "for i in os.listdir(ref_path):\n",
    "    pdb_id = i.split('.')[0]\n",
    "    temp_path = f'{galaxy_cnn_path}{pdb_id}_waters.pdb'\n",
    "    if os.path.exists(temp_path):\n",
    "        ref_paths.append(f'{ref_path}{i}')\n",
    "        galaxy_cnn_paths.append(f'{galaxy_cnn_path}{pdb_id}_waters.pdb')"
   ]
  },
  {
   "cell_type": "code",
   "execution_count": 19,
   "id": "eadaa44e",
   "metadata": {},
   "outputs": [
    {
     "name": "stdout",
     "output_type": "stream",
     "text": [
      "Threshold  Recall  Precision    F1     RMSD\n",
      "   1.5     0.776     0.435    0.557   0.655    \n",
      "   1.0     0.680     0.381    0.489   0.534    \n",
      "   0.5     0.387     0.217    0.278   0.341    \n"
     ]
    }
   ],
   "source": [
    "#Galaxy-CNN results for high recall predictions with cap at 34\n",
    "match_results, rmsd = test_evaluation(galaxy_cnn_paths, ref_paths, 34, radius, thresholds)\n",
    "a = np.sum(match_results,0)\n",
    "for i, skip in enumerate(thresholds):\n",
    "    precision, recall = a[3*i]/a[(3*i)+1], a[3*i]/a[(3*i)+2]\n",
    "    F1 = (2*precision*recall)/(precision+recall)\n",
    "    a[3*i:3+3*i] = recall, precision, F1\n",
    "\n",
    "print(f'Threshold  Recall  Precision    F1     RMSD')\n",
    "for k in range(3):\n",
    "    r, p, f, d = round(a[k*3],3), round(a[k*3+1],3), round(a[k*3+2],3), round(np.sqrt(np.sum(rmsd[k])/len(rmsd[k])),3)\n",
    "    print(f'{thresholds[k]:^10}{\"%1.3f\"%r:^8}{\"%1.3f\"%p:^12}{\"%1.3f\"%f}{\"%1.3f\"%d:^12}')"
   ]
  },
  {
   "cell_type": "code",
   "execution_count": 20,
   "id": "6d49bba9",
   "metadata": {},
   "outputs": [
    {
     "name": "stdout",
     "output_type": "stream",
     "text": [
      "Threshold  Recall  Precision    F1     RMSD\n",
      "   1.5     0.723     0.515    0.602   0.637    \n",
      "   1.0     0.644     0.459    0.536   0.526    \n",
      "   0.5     0.375     0.267    0.312   0.341    \n"
     ]
    }
   ],
   "source": [
    "#Galaxy-CNN results for high recall predictions with cap at 38\n",
    "match_results, rmsd = test_evaluation(galaxy_cnn_paths, ref_paths, 38, radius, thresholds)\n",
    "a = np.sum(match_results,0)\n",
    "for i, skip in enumerate(thresholds):\n",
    "    precision, recall = a[3*i]/a[(3*i)+1], a[3*i]/a[(3*i)+2]\n",
    "    F1 = (2*precision*recall)/(precision+recall)\n",
    "    a[3*i:3+3*i] = recall, precision, F1\n",
    "\n",
    "print(f'Threshold  Recall  Precision    F1     RMSD')\n",
    "for k in range(3):\n",
    "    r, p, f, d = round(a[k*3],3), round(a[k*3+1],3), round(a[k*3+2],3), round(np.sqrt(np.sum(rmsd[k])/len(rmsd[k])),3)\n",
    "    print(f'{thresholds[k]:^10}{\"%1.3f\"%r:^8}{\"%1.3f\"%p:^12}{\"%1.3f\"%f}{\"%1.3f\"%d:^12}')"
   ]
  },
  {
   "cell_type": "code",
   "execution_count": 21,
   "id": "ea96276a",
   "metadata": {},
   "outputs": [
    {
     "name": "stdout",
     "output_type": "stream",
     "text": [
      "Threshold  Recall  Precision    F1     RMSD\n",
      "   1.5     0.641     0.608    0.624   0.614    \n",
      "   1.0     0.581     0.551    0.566   0.515    \n",
      "   0.5     0.350     0.332    0.341   0.339    \n"
     ]
    }
   ],
   "source": [
    "#Galaxy-CNN results for high recall predictions with cap at 42\n",
    "match_results, rmsd = test_evaluation(galaxy_cnn_paths, ref_paths, 42, radius, thresholds)\n",
    "a = np.sum(match_results,0)\n",
    "for i, skip in enumerate(thresholds):\n",
    "    precision, recall = a[3*i]/a[(3*i)+1], a[3*i]/a[(3*i)+2]\n",
    "    F1 = (2*precision*recall)/(precision+recall)\n",
    "    a[3*i:3+3*i] = recall, precision, F1\n",
    "\n",
    "print(f'Threshold  Recall  Precision    F1     RMSD')\n",
    "for k in range(3):\n",
    "    r, p, f, d = round(a[k*3],3), round(a[k*3+1],3), round(a[k*3+2],3), round(np.sqrt(np.sum(rmsd[k])/len(rmsd[k])),3)\n",
    "    print(f'{thresholds[k]:^10}{\"%1.3f\"%r:^8}{\"%1.3f\"%p:^12}{\"%1.3f\"%f}{\"%1.3f\"%d:^12}')"
   ]
  },
  {
   "cell_type": "markdown",
   "id": "ba0a79c6",
   "metadata": {},
   "source": [
    "### Accutar Results, radius 3.25 Å"
   ]
  },
  {
   "cell_type": "code",
   "execution_count": 22,
   "id": "3cac7419",
   "metadata": {},
   "outputs": [],
   "source": [
    "ref_paths, accutar_paths = [], []\n",
    "for i in os.listdir(ref_path):\n",
    "    pdb_id = i.split('.')[0]\n",
    "    temp_path = f'{accutar_path}{pdb_id}_waters.pdb'\n",
    "    if os.path.exists(temp_path):\n",
    "        ref_paths.append(f'{ref_path}{i}')\n",
    "        accutar_paths.append(f'{accutar_path}{pdb_id}_waters.pdb')"
   ]
  },
  {
   "cell_type": "code",
   "execution_count": 23,
   "id": "c7dce9aa",
   "metadata": {},
   "outputs": [
    {
     "name": "stdout",
     "output_type": "stream",
     "text": [
      "Threshold  Recall  Precision    F1     RMSD\n",
      "   1.5     0.624     0.499    0.555   0.666    \n",
      "   1.0     0.528     0.422    0.470   0.497    \n",
      "   0.5     0.340     0.272    0.302   0.298    \n"
     ]
    }
   ],
   "source": [
    "#Accutar results for high recall predictions without cap\n",
    "match_results, rmsd = test_evaluation(accutar_paths, ref_paths, 0, radius, thresholds)\n",
    "a = np.sum(match_results,0)\n",
    "for i, skip in enumerate(thresholds):\n",
    "    precision, recall = a[3*i]/a[(3*i)+1], a[3*i]/a[(3*i)+2]\n",
    "    F1 = (2*precision*recall)/(precision+recall)\n",
    "    a[3*i:3+3*i] = recall, precision, F1\n",
    "\n",
    "print(f'Threshold  Recall  Precision    F1     RMSD')\n",
    "for k in range(3):\n",
    "    r, p, f, d = round(a[k*3],3), round(a[k*3+1],3), round(a[k*3+2],3), round(np.sqrt(np.sum(rmsd[k])/len(rmsd[k])),3)\n",
    "    print(f'{thresholds[k]:^10}{\"%1.3f\"%r:^8}{\"%1.3f\"%p:^12}{\"%1.3f\"%f}{\"%1.3f\"%d:^12}')"
   ]
  },
  {
   "cell_type": "markdown",
   "id": "6003dcaa-9409-4171-bb58-11d003930d12",
   "metadata": {},
   "source": [
    "# Protein - Protein Complex Set"
   ]
  },
  {
   "cell_type": "code",
   "execution_count": 24,
   "id": "491bb759-dd9c-4fc3-b81b-af7088f21204",
   "metadata": {},
   "outputs": [],
   "source": [
    "### Results on the 151 protein-protein complexes ###\n",
    "#Define paths\n",
    "reference_path = 'prediction_results/151_pp_complexes/reference/pp_complex/'\n",
    "complex_ref_path = 'prediction_results/151_pp_complexes/reference/GCNN_reference/'\n",
    "hydra_prot_path = 'prediction_results/151_pp_complexes/ours_pp_complex/'\n",
    "galaxy_cnn_path = 'prediction_results/151_pp_complexes/Gcnn/'\n",
    "galaxy_wgkb_path = 'prediction_results/151_pp_complexes/Gwkgb/'\n",
    "galaxy_foldx_path = 'prediction_results/151_pp_complexes/FoldX/'\n",
    "galaxy_3drism_path = 'prediction_results/151_pp_complexes/3drism/'\n",
    "fingerprint = np.load(f'prediction_results/151_pp_complexes/complex_complex_fingerprint_pdbid.npy')\n",
    "#Define parameters\n",
    "radius = 4\n",
    "complex_distance = 5\n",
    "thresholds=(1.5,1.0,0.5)"
   ]
  },
  {
   "cell_type": "markdown",
   "id": "e6cf1992-7019-4cff-9baa-dfd0a07e0a12",
   "metadata": {},
   "source": [
    "### HydraProt"
   ]
  },
  {
   "cell_type": "code",
   "execution_count": 25,
   "id": "7c8ccb3e-dddd-4cf5-ad02-10501538d4ce",
   "metadata": {},
   "outputs": [],
   "source": [
    "unet_t = np.load('./datasets/data_lists/unet_train_data.npy')\n",
    "mlp_t = np.load('./datasets/data_lists/mlp_train_data.npy')\n",
    "dont_include = np.concatenate((unet_t,mlp_t))\n",
    "\n",
    "ref_paths, hydra_prot_paths = [], []\n",
    "for f, pdb_id in fingerprint:\n",
    "    temp_path = f'{hydra_prot_path}{pdb_id}_waters.pdb'\n",
    "    if os.path.exists(temp_path) and not pdb_id in dont_include:\n",
    "        ref_paths.append(f'{reference_path}{pdb_id}.pdb')\n",
    "        hydra_prot_paths.append(f'{hydra_prot_path}{pdb_id}_waters.pdb')"
   ]
  },
  {
   "cell_type": "code",
   "execution_count": 26,
   "id": "54eb7327-1c10-4a30-a216-eefb150d3061",
   "metadata": {
    "tags": []
   },
   "outputs": [
    {
     "name": "stdout",
     "output_type": "stream",
     "text": [
      "Threshold  Recall  Precision    F1     RMSD\n",
      "   1.5     0.870     0.454    0.596   0.578    \n",
      "   1.0     0.787     0.410    0.539   0.463    \n",
      "   0.5     0.553     0.288    0.379   0.307    \n"
     ]
    }
   ],
   "source": [
    "#HydraProt results for protein-protein complex predictions with cap at 0.05\n",
    "match_results, rmsd = test_pp_complex_evaluation(hydra_prot_paths, ref_paths, complex_ref_path, 0.05, radius, complex_distance, thresholds, fingerprint)\n",
    "a = np.sum(match_results,0)\n",
    "for i, skip in enumerate(thresholds):\n",
    "    precision, recall = a[3*i]/a[(3*i)+1], a[3*i]/a[(3*i)+2]\n",
    "    F1 = (2*precision*recall)/(precision+recall)\n",
    "    a[3*i:3+3*i] = recall, precision, F1\n",
    "\n",
    "print(f'Threshold  Recall  Precision    F1     RMSD')\n",
    "for k in range(3):\n",
    "    r, p, f, d = round(a[k*3],3), round(a[k*3+1],3), round(a[k*3+2],3), round(np.sqrt(np.sum(rmsd[k])/len(rmsd[k])),3)\n",
    "    print(f'{thresholds[k]:^10}{\"%1.3f\"%r:^8}{\"%1.3f\"%p:^12}{\"%1.3f\"%f}{\"%1.3f\"%d:^12}')"
   ]
  },
  {
   "cell_type": "code",
   "execution_count": 27,
   "id": "c0dfd2f7-5b8e-4980-91ff-85bf0a7f6b98",
   "metadata": {},
   "outputs": [
    {
     "name": "stdout",
     "output_type": "stream",
     "text": [
      "Threshold  Recall  Precision    F1     RMSD\n",
      "   1.5     0.793     0.568    0.662   0.549    \n",
      "   1.0     0.732     0.524    0.611   0.450    \n",
      "   0.5     0.529     0.379    0.442   0.305    \n"
     ]
    }
   ],
   "source": [
    "#HydraProt results for protein-protein complex predictions with cap at 0.11\n",
    "match_results, rmsd = test_pp_complex_evaluation(hydra_prot_paths, ref_paths, complex_ref_path, 0.11, radius, complex_distance, thresholds, fingerprint)\n",
    "a = np.sum(match_results,0)\n",
    "for i, skip in enumerate(thresholds):\n",
    "    precision, recall = a[3*i]/a[(3*i)+1], a[3*i]/a[(3*i)+2]\n",
    "    F1 = (2*precision*recall)/(precision+recall)\n",
    "    a[3*i:3+3*i] = recall, precision, F1\n",
    "\n",
    "print(f'Threshold  Recall  Precision    F1     RMSD')\n",
    "for k in range(3):\n",
    "    r, p, f, d = round(a[k*3],3), round(a[k*3+1],3), round(a[k*3+2],3), round(np.sqrt(np.sum(rmsd[k])/len(rmsd[k])),3)\n",
    "    print(f'{thresholds[k]:^10}{\"%1.3f\"%r:^8}{\"%1.3f\"%p:^12}{\"%1.3f\"%f}{\"%1.3f\"%d:^12}')"
   ]
  },
  {
   "cell_type": "code",
   "execution_count": 28,
   "id": "476690a9-391a-417b-b764-c18ec30d40eb",
   "metadata": {},
   "outputs": [
    {
     "name": "stdout",
     "output_type": "stream",
     "text": [
      "Threshold  Recall  Precision    F1     RMSD\n",
      "   1.5     0.645     0.676    0.660   0.514    \n",
      "   1.0     0.602     0.631    0.616   0.423    \n",
      "   0.5     0.460     0.483    0.471   0.300    \n"
     ]
    }
   ],
   "source": [
    "#HydraProt results for protein-protein complex predictions with cap at 0.19\n",
    "match_results, rmsd = test_pp_complex_evaluation(hydra_prot_paths, ref_paths, complex_ref_path, 0.19, radius, complex_distance, thresholds, fingerprint)\n",
    "a = np.sum(match_results,0)\n",
    "for i, skip in enumerate(thresholds):\n",
    "    precision, recall = a[3*i]/a[(3*i)+1], a[3*i]/a[(3*i)+2]\n",
    "    F1 = (2*precision*recall)/(precision+recall)\n",
    "    a[3*i:3+3*i] = recall, precision, F1\n",
    "\n",
    "print(f'Threshold  Recall  Precision    F1     RMSD')\n",
    "for k in range(3):\n",
    "    r, p, f, d = round(a[k*3],3), round(a[k*3+1],3), round(a[k*3+2],3), round(np.sqrt(np.sum(rmsd[k])/len(rmsd[k])),3)\n",
    "    print(f'{thresholds[k]:^10}{\"%1.3f\"%r:^8}{\"%1.3f\"%p:^12}{\"%1.3f\"%f}{\"%1.3f\"%d:^12}')"
   ]
  },
  {
   "cell_type": "markdown",
   "id": "0d5c52b6-f1f1-4b64-95d8-d4a74f6ec93c",
   "metadata": {},
   "source": [
    "### Galaxy-CNN Results"
   ]
  },
  {
   "cell_type": "code",
   "execution_count": 29,
   "id": "13dca91e-d112-452a-bad0-51abf8b5b561",
   "metadata": {},
   "outputs": [],
   "source": [
    "ref_paths, galaxy_cnn_paths = [], []\n",
    "for f, pdb_id in fingerprint:\n",
    "    temp_path = f'{galaxy_cnn_path}{f}.pdb'\n",
    "    if os.path.exists(temp_path):\n",
    "        ref_paths.append(f'{reference_path}{pdb_id}.pdb')\n",
    "        galaxy_cnn_paths.append(temp_path)"
   ]
  },
  {
   "cell_type": "code",
   "execution_count": 31,
   "id": "b4cb2266-8060-433e-9955-5e932c3bcf10",
   "metadata": {},
   "outputs": [
    {
     "name": "stdout",
     "output_type": "stream",
     "text": [
      "Threshold  Recall  Precision    F1     RMSD\n",
      "   1.5     0.719     0.410    0.522   0.671    \n",
      "   1.0     0.626     0.357    0.455   0.549    \n",
      "   0.5     0.332     0.190    0.241   0.342    \n"
     ]
    }
   ],
   "source": [
    "#Galaxy-CNN results for protein-protein complex predictions with cap at 34\n",
    "match_results, rmsd = test_pp_complex_evaluation(galaxy_cnn_paths, ref_paths, complex_ref_path, 34, radius, complex_distance, thresholds, fingerprint)\n",
    "a = np.sum(match_results,0)\n",
    "for i, skip in enumerate(thresholds):\n",
    "    precision, recall = a[3*i]/a[(3*i)+1], a[3*i]/a[(3*i)+2]\n",
    "    F1 = (2*precision*recall)/(precision+recall)\n",
    "    a[3*i:3+3*i] = recall, precision, F1\n",
    "\n",
    "print(f'Threshold  Recall  Precision    F1     RMSD')\n",
    "for k in range(3):\n",
    "    r, p, f, d = round(a[k*3],3), round(a[k*3+1],3), round(a[k*3+2],3), round(np.sqrt(np.sum(rmsd[k])/len(rmsd[k])),3)\n",
    "    print(f'{thresholds[k]:^10}{\"%1.3f\"%r:^8}{\"%1.3f\"%p:^12}{\"%1.3f\"%f}{\"%1.3f\"%d:^12}')"
   ]
  },
  {
   "cell_type": "code",
   "execution_count": 32,
   "id": "02c0f76d-e1f2-45e7-b6df-339f256306e9",
   "metadata": {},
   "outputs": [
    {
     "name": "stdout",
     "output_type": "stream",
     "text": [
      "Threshold  Recall  Precision    F1     RMSD\n",
      "   1.5     0.706     0.467    0.562   0.663    \n",
      "   1.0     0.620     0.411    0.494   0.548    \n",
      "   0.5     0.331     0.219    0.264   0.342    \n"
     ]
    }
   ],
   "source": [
    "#Galaxy-CNN results for protein-protein complex predictions with cap at 38\n",
    "match_results, rmsd = test_pp_complex_evaluation(galaxy_cnn_paths, ref_paths, complex_ref_path, 38, radius, complex_distance, thresholds, fingerprint)\n",
    "a = np.sum(match_results,0)\n",
    "for i, skip in enumerate(thresholds):\n",
    "    precision, recall = a[3*i]/a[(3*i)+1], a[3*i]/a[(3*i)+2]\n",
    "    F1 = (2*precision*recall)/(precision+recall)\n",
    "    a[3*i:3+3*i] = recall, precision, F1\n",
    "\n",
    "print(f'Threshold  Recall  Precision    F1     RMSD')\n",
    "for k in range(3):\n",
    "    r, p, f, d = round(a[k*3],3), round(a[k*3+1],3), round(a[k*3+2],3), round(np.sqrt(np.sum(rmsd[k])/len(rmsd[k])),3)\n",
    "    print(f'{thresholds[k]:^10}{\"%1.3f\"%r:^8}{\"%1.3f\"%p:^12}{\"%1.3f\"%f}{\"%1.3f\"%d:^12}')"
   ]
  },
  {
   "cell_type": "code",
   "execution_count": 33,
   "id": "84f5a870-55a0-44c8-8f38-e9368ef55309",
   "metadata": {},
   "outputs": [
    {
     "name": "stdout",
     "output_type": "stream",
     "text": [
      "Threshold  Recall  Precision    F1     RMSD\n",
      "   1.5     0.676     0.541    0.601   0.652    \n",
      "   1.0     0.599     0.479    0.532   0.542    \n",
      "   0.5     0.327     0.261    0.290   0.342    \n"
     ]
    }
   ],
   "source": [
    "#Galaxy-CNN results for protein-protein complex predictions with cap at 42\n",
    "match_results, rmsd = test_pp_complex_evaluation(galaxy_cnn_paths, ref_paths, complex_ref_path, 42, radius, complex_distance, thresholds, fingerprint)\n",
    "a = np.sum(match_results,0)\n",
    "for i, skip in enumerate(thresholds):\n",
    "    precision, recall = a[3*i]/a[(3*i)+1], a[3*i]/a[(3*i)+2]\n",
    "    F1 = (2*precision*recall)/(precision+recall)\n",
    "    a[3*i:3+3*i] = recall, precision, F1\n",
    "\n",
    "print(f'Threshold  Recall  Precision    F1     RMSD')\n",
    "for k in range(3):\n",
    "    r, p, f, d = round(a[k*3],3), round(a[k*3+1],3), round(a[k*3+2],3), round(np.sqrt(np.sum(rmsd[k])/len(rmsd[k])),3)\n",
    "    print(f'{thresholds[k]:^10}{\"%1.3f\"%r:^8}{\"%1.3f\"%p:^12}{\"%1.3f\"%f}{\"%1.3f\"%d:^12}')"
   ]
  },
  {
   "cell_type": "markdown",
   "id": "4a050795-ee98-41bd-9306-fcb6652b23ae",
   "metadata": {},
   "source": [
    "### FoldX Results"
   ]
  },
  {
   "cell_type": "code",
   "execution_count": 34,
   "id": "0b3a9b93-c1b1-4e16-9a64-46310c1c167e",
   "metadata": {},
   "outputs": [],
   "source": [
    "ref_paths, galaxy_foldx_paths = [], []\n",
    "for f, pdb_id in fingerprint:\n",
    "    temp_path = f'{galaxy_foldx_path}{f}.pdb'\n",
    "    if os.path.exists(temp_path):\n",
    "        ref_paths.append(f'{reference_path}{pdb_id}.pdb')\n",
    "        galaxy_foldx_paths.append(temp_path)"
   ]
  },
  {
   "cell_type": "code",
   "execution_count": 35,
   "id": "2a5fcec2-57aa-43e0-876c-18282950143d",
   "metadata": {},
   "outputs": [
    {
     "name": "stdout",
     "output_type": "stream",
     "text": [
      "Threshold  Recall  Precision    F1     RMSD\n",
      "   1.5     0.419     0.428    0.424   0.953    \n",
      "   1.0     0.247     0.253    0.250   0.674    \n",
      "   0.5     0.075     0.077    0.076   0.351    \n"
     ]
    }
   ],
   "source": [
    "#FoldX results for protein-protein complex predictions with no cap\n",
    "match_results, rmsd = test_pp_complex_evaluation(galaxy_foldx_paths, ref_paths, complex_ref_path, 0, radius, complex_distance, thresholds, fingerprint)\n",
    "a = np.sum(match_results,0)\n",
    "for i, skip in enumerate(thresholds):\n",
    "    precision, recall = a[3*i]/a[(3*i)+1], a[3*i]/a[(3*i)+2]\n",
    "    F1 = (2*precision*recall)/(precision+recall)\n",
    "    a[3*i:3+3*i] = recall, precision, F1\n",
    "\n",
    "print(f'Threshold  Recall  Precision    F1     RMSD')\n",
    "for k in range(3):\n",
    "    r, p, f, d = round(a[k*3],3), round(a[k*3+1],3), round(a[k*3+2],3), round(np.sqrt(np.sum(rmsd[k])/len(rmsd[k])),3)\n",
    "    print(f'{thresholds[k]:^10}{\"%1.3f\"%r:^8}{\"%1.3f\"%p:^12}{\"%1.3f\"%f}{\"%1.3f\"%d:^12}')"
   ]
  },
  {
   "cell_type": "markdown",
   "id": "de8b7848-736c-4ec8-84e8-6c80b5a1eeed",
   "metadata": {},
   "source": [
    "### 3D-RISM Results"
   ]
  },
  {
   "cell_type": "code",
   "execution_count": 36,
   "id": "ebbb2125-7234-4ac5-983f-da7031bb46d7",
   "metadata": {},
   "outputs": [],
   "source": [
    "ref_paths, galaxy_3drism_paths = [], []\n",
    "for f, pdb_id in fingerprint:\n",
    "    temp_path = f'{galaxy_3drism_path}{f}.pdb'\n",
    "    if os.path.exists(temp_path):\n",
    "        ref_paths.append(f'{reference_path}{pdb_id}.pdb')\n",
    "        galaxy_3drism_paths.append(temp_path)"
   ]
  },
  {
   "cell_type": "code",
   "execution_count": 37,
   "id": "b30a5431-e36f-4420-bb93-4454418ff1d7",
   "metadata": {},
   "outputs": [
    {
     "name": "stdout",
     "output_type": "stream",
     "text": [
      "Threshold  Recall  Precision    F1     RMSD\n",
      "   1.5     0.542     0.355    0.429   0.843    \n",
      "   1.0     0.391     0.256    0.310   0.623    \n",
      "   0.5     0.152     0.100    0.121   0.350    \n"
     ]
    }
   ],
   "source": [
    "#3D-RISM results for protein-protein complex predictions with no cap\n",
    "match_results, rmsd = test_pp_complex_evaluation(galaxy_3drism_paths, ref_paths, complex_ref_path, 0, radius, complex_distance, thresholds, fingerprint)\n",
    "a = np.sum(match_results,0)\n",
    "for i, skip in enumerate(thresholds):\n",
    "    precision, recall = a[3*i]/a[(3*i)+1], a[3*i]/a[(3*i)+2]\n",
    "    F1 = (2*precision*recall)/(precision+recall)\n",
    "    a[3*i:3+3*i] = recall, precision, F1\n",
    "\n",
    "print(f'Threshold  Recall  Precision    F1     RMSD')\n",
    "for k in range(3):\n",
    "    r, p, f, d = round(a[k*3],3), round(a[k*3+1],3), round(a[k*3+2],3), round(np.sqrt(np.sum(rmsd[k])/len(rmsd[k])),3)\n",
    "    print(f'{thresholds[k]:^10}{\"%1.3f\"%r:^8}{\"%1.3f\"%p:^12}{\"%1.3f\"%f}{\"%1.3f\"%d:^12}')"
   ]
  },
  {
   "cell_type": "markdown",
   "id": "50143b4d-e5c9-467a-a4fe-c8a1b6d19005",
   "metadata": {},
   "source": [
    "### Galaxy-wKGB Results"
   ]
  },
  {
   "cell_type": "code",
   "execution_count": 38,
   "id": "a7ad7c0f-1770-4c63-a0c5-c46e117654d0",
   "metadata": {},
   "outputs": [],
   "source": [
    "ref_paths, galaxy_wkgb_paths = [], []\n",
    "for f, pdb_id in fingerprint:\n",
    "    temp_path = f'{galaxy_wgkb_path}{f}.pdb'\n",
    "    if os.path.exists(temp_path):\n",
    "        ref_paths.append(f'{reference_path}{pdb_id}.pdb')\n",
    "        galaxy_wkgb_paths.append(temp_path)"
   ]
  },
  {
   "cell_type": "code",
   "execution_count": 39,
   "id": "a80478aa-891b-43df-bcce-de8c726786b3",
   "metadata": {},
   "outputs": [
    {
     "name": "stdout",
     "output_type": "stream",
     "text": [
      "Threshold  Recall  Precision    F1     RMSD\n",
      "   1.5     0.721     0.268    0.390   0.806    \n",
      "   1.0     0.543     0.202    0.294   0.620    \n",
      "   0.5     0.217     0.081    0.117   0.352    \n"
     ]
    }
   ],
   "source": [
    "#Galaxy-wKGB results for protein-protein complex predictions with no cap\n",
    "match_results, rmsd = test_pp_complex_evaluation(galaxy_wkgb_paths, ref_paths, complex_ref_path, 0, radius, complex_distance, thresholds, fingerprint)\n",
    "a = np.sum(match_results,0)\n",
    "for i, skip in enumerate(thresholds):\n",
    "    precision, recall = a[3*i]/a[(3*i)+1], a[3*i]/a[(3*i)+2]\n",
    "    F1 = (2*precision*recall)/(precision+recall)\n",
    "    a[3*i:3+3*i] = recall, precision, F1\n",
    "\n",
    "print(f'Threshold  Recall  Precision    F1     RMSD')\n",
    "for k in range(3):\n",
    "    r, p, f, d = round(a[k*3],3), round(a[k*3+1],3), round(a[k*3+2],3), round(np.sqrt(np.sum(rmsd[k])/len(rmsd[k])),3)\n",
    "    print(f'{thresholds[k]:^10}{\"%1.3f\"%r:^8}{\"%1.3f\"%p:^12}{\"%1.3f\"%f}{\"%1.3f\"%d:^12}')"
   ]
  }
 ],
 "metadata": {
  "kernelspec": {
   "display_name": "Python 3 (ipykernel)",
   "language": "python",
   "name": "python3"
  },
  "language_info": {
   "codemirror_mode": {
    "name": "ipython",
    "version": 3
   },
   "file_extension": ".py",
   "mimetype": "text/x-python",
   "name": "python",
   "nbconvert_exporter": "python",
   "pygments_lexer": "ipython3",
   "version": "3.8.13"
  }
 },
 "nbformat": 4,
 "nbformat_minor": 5
}
