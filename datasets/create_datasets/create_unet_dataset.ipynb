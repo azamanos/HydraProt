{
 "cells": [
  {
   "cell_type": "code",
   "execution_count": 1,
   "id": "753a1aad-6624-4713-b6a9-bd3f2f2843cc",
   "metadata": {},
   "outputs": [],
   "source": [
    "import os\n",
    "import time\n",
    "import h5py\n",
    "import numpy as np\n",
    "#Setting path\n",
    "import sys\n",
    "sys.path.append('../../')\n",
    "from utils.utils import PDB, preprocess_pdb_for_unet, save_h5_data"
   ]
  },
  {
   "cell_type": "code",
   "execution_count": 2,
   "id": "44d02cee-a5ab-4cde-9d35-cd5cb5d39072",
   "metadata": {},
   "outputs": [],
   "source": [
    "#Parameters\n",
    "radius = 4\n",
    "#Info\n",
    "h5_dir = '../unet_dataset/unet_train_dataset/'\n",
    "if not os.path.exists(h5_dir):\n",
    "    os.system(f'mkdir {h5_dir}')\n",
    "training_list = np.load('../data_lists/unet_train_data.npy', allow_pickle=True)\n",
    "training_list_len = len(training_list)\n",
    "pdb_path = '/home/zami/projects/protein_hydration/Hydration/Waters_PDB_exploration/PDBs/'#'Here set the path to the directory of your pdb files'"
   ]
  },
  {
   "cell_type": "code",
   "execution_count": 3,
   "id": "87f24153-f046-4fdd-ac2c-d92ceb91be9b",
   "metadata": {},
   "outputs": [
    {
     "name": "stdout",
     "output_type": "stream",
     "text": [
      "PDB ID 1ODZ did 0.07 seconds to be processed! 1000/1000 maps have been completed. Minutes passed since start 0.6.\r"
     ]
    }
   ],
   "source": [
    "a = time.time()\n",
    "for pdb_ind, pdb_id in enumerate(training_list):\n",
    "    b = time.time()\n",
    "    #Load pdb\n",
    "    pdb = PDB(f'{pdb_path}{pdb_id}.pdb.gz')\n",
    "    #preprocess pdb data\n",
    "    pdb, atom_hetatm_coords, atom_hetatm_atomtype = preprocess_pdb_for_unet(pdb, radius)\n",
    "    #Load h5 file\n",
    "    with h5py.File(f'{h5_dir}/data.h5', 'a') as f:\n",
    "        save_h5_data(f, pdb_id, (pdb.water_coords, atom_hetatm_coords, atom_hetatm_atomtype), num=3)\n",
    "    print(f'PDB ID {pdb_id} did {round(time.time()-b, 2)} seconds to be processed! {pdb_ind+1}/{training_list_len} maps have been completed. Minutes passed since start {round((time.time()-a)/60, 2)}.', end='\\r')"
   ]
  },
  {
   "cell_type": "code",
   "execution_count": 4,
   "id": "83068797-a8dc-42fb-a1a9-23e256c03839",
   "metadata": {},
   "outputs": [],
   "source": [
    "#Parameters\n",
    "radius = 4\n",
    "#Info\n",
    "h5_dir = '../unet_dataset/unet_validation_dataset/'\n",
    "if not os.path.exists(h5_dir):\n",
    "    os.system(f'mkdir {h5_dir}')\n",
    "validation_list = np.load('../data_lists/unet_validation_data.npy', allow_pickle=True)\n",
    "validation_list_len = len(validation_list)"
   ]
  },
  {
   "cell_type": "code",
   "execution_count": 5,
   "id": "a0873f76-d8d0-45cf-a8c0-234adf84c3c7",
   "metadata": {},
   "outputs": [
    {
     "name": "stdout",
     "output_type": "stream",
     "text": [
      "PDB ID 2QVG did 0.01 seconds to be processed! 200/200 maps have been completed. Minutes passed since start 0.09.\r"
     ]
    }
   ],
   "source": [
    "#Validation\n",
    "a = time.time()\n",
    "for pdb_ind, pdb_id in enumerate(validation_list):\n",
    "    b = time.time()\n",
    "    #Load pdb\n",
    "    pdb = PDB(f'{pdb_path}{pdb_id}.pdb.gz')\n",
    "    #preprocess pdb data\n",
    "    pdb, atom_hetatm_coords, atom_hetatm_atomtype = preprocess_pdb_for_unet(pdb, radius)\n",
    "    #Load h5 file\n",
    "    with h5py.File(f'{h5_dir}/{pdb_id}.h5', 'a') as f:\n",
    "        save_h5_data(f, pdb_id, (pdb.water_coords, atom_hetatm_coords, atom_hetatm_atomtype), num=3)\n",
    "    print(f'PDB ID {pdb_id} did {round(time.time()-b, 2)} seconds to be processed! {pdb_ind+1}/{validation_list_len} maps have been completed. Minutes passed since start {round((time.time()-a)/60, 2)}.', end='\\r')"
   ]
  }
 ],
 "metadata": {
  "kernelspec": {
   "display_name": "Python 3 (ipykernel)",
   "language": "python",
   "name": "python3"
  },
  "language_info": {
   "codemirror_mode": {
    "name": "ipython",
    "version": 3
   },
   "file_extension": ".py",
   "mimetype": "text/x-python",
   "name": "python",
   "nbconvert_exporter": "python",
   "pygments_lexer": "ipython3",
   "version": "3.8.13"
  }
 },
 "nbformat": 4,
 "nbformat_minor": 5
}
