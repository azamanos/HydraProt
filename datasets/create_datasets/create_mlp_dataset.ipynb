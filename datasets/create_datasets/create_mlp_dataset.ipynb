{
 "cells": [
  {
   "cell_type": "code",
   "execution_count": 2,
   "id": "af4c45f9-9865-4d5e-86d2-fea35a2cc7ab",
   "metadata": {},
   "outputs": [],
   "source": [
    "import time\n",
    "import h5py\n",
    "import random\n",
    "import torch\n",
    "import numpy as np\n",
    "import torch.nn.functional as F\n",
    "#Setting path\"\n",
    "import sys\n",
    "sys.path.append('../../')\n",
    "from utils.utils import PDB, reform_dataset, embedding_multiprocess, save_embedding_dataset, batchify_dmatrix_computation_for_dmin"
   ]
  },
  {
   "cell_type": "code",
   "execution_count": 4,
   "id": "1b705565-db69-4d16-9a01-fe52714b14c2",
   "metadata": {},
   "outputs": [],
   "source": [
    "train_list = np.load('../data_lists/mlp_train_data.npy', allow_pickle=True)\n",
    "validation_list = np.load('../data_lists/mlp_validation_data.npy', allow_pickle=True)\n",
    "pdb_path = 'Here set the path to the directory of your pdb files'"
   ]
  },
  {
   "cell_type": "code",
   "execution_count": 3,
   "id": "41b8b728-d001-4b8c-93dd-d366983b7205",
   "metadata": {},
   "outputs": [
    {
     "name": "stdout",
     "output_type": "stream",
     "text": [
      "Finished in 2907.84 seconds..25 seconds.            Total time 48.46 minutes..\n"
     ]
    }
   ],
   "source": [
    "#Compute and save embeddings for your training dataset.\n",
    "radius = 4\n",
    "st = time.time()\n",
    "count = 1\n",
    "pdb_list = train_list\n",
    "prediction_dir = 'mlp_train_36_374'\n",
    "#Start computing\n",
    "for entry in pdb_list:\n",
    "    ct = time.time()\n",
    "    #Load PDB files.\n",
    "    pdb = PDB(f'{pdb_path}{entry}.pdb.gz')\n",
    "    #Load predicted water candidates.\n",
    "    water_coords = np.load(f'./unet_prediction_waters/{prediction_dir}/{entry}_waters.npy')\n",
    "    #Compute embedding\n",
    "    pdb, emb = embedding_multiprocess(pdb, water_coords, 3000, threads=8, distance=radius, need_labels=True)\n",
    "    #Normalize embedding\n",
    "    emb[0][:,1] /= 4\n",
    "    emb[0][:,2:5] /= np.pi\n",
    "    #Keep pdb waters within radius\n",
    "    d = batchify_dmatrix_computation_for_dmin(pdb.coords, pdb.water_coords)\n",
    "    pdb.water_coords = pdb.water_coords[np.where(d<=radius)[0]]\n",
    "    #Reform dataset\n",
    "    emb_reformed, batch_unique_waters = reform_dataset(emb[0], 10)\n",
    "    #Keep training labels for waters that have embedding\n",
    "    training_labels = emb[1][batch_unique_waters]\n",
    "    #Keep also the coordinates of the waters that have embedding.\n",
    "    embedded_water_coordinates = water_coords[batch_unique_waters]\n",
    "    #Save_Data\n",
    "    with h5py.File(f'../mlp_dataset/embedding_{prediction_dir}_dataset.h5', 'a') as f:\n",
    "        save_embedding_dataset(f, entry,\n",
    "                              (emb_reformed, training_labels), range(2))\n",
    "    print(f'{count}/{len(pdb_list)}, {entry} finished in {round(time.time()-ct,2)} seconds. Total time {round((time.time()-st)/60,2)} minutes.', end='\\r')\n",
    "    count+=1\n",
    "et = time.time()\n",
    "print(f'Finished in {round(et-st,2)} seconds.')"
   ]
  },
  {
   "cell_type": "code",
   "execution_count": 4,
   "id": "2c049faf-7da9-48e7-a6c7-ecd8a4612e49",
   "metadata": {},
   "outputs": [
    {
     "name": "stdout",
     "output_type": "stream",
     "text": [
      "Finished in 605.28 seconds..18 seconds.            Total time 10.09 minutes.\n"
     ]
    }
   ],
   "source": [
    "#Compute and save embeddings for your validation dataset.\n",
    "radius = 4\n",
    "st = time.time()\n",
    "count = 1\n",
    "pdb_list = validation_list\n",
    "prediction_dir = 'mlp_validation_36_374'\n",
    "#Start computing\n",
    "for entry in pdb_list:\n",
    "    ct = time.time()\n",
    "    #Load PDB files.\n",
    "    pdb = PDB(f'{pdb_path}{entry}.pdb.gz')\n",
    "    #Load predicted water candidates.\n",
    "    water_coords = np.load(f'./unet_prediction_waters/{prediction_dir}/{entry}_waters.npy')\n",
    "    #Compute embedding\n",
    "    pdb, emb = embedding_multiprocess(pdb, water_coords, 3000, threads=8, distance=radius, need_labels=True)\n",
    "    #Normalize embedding\n",
    "    emb[0][:,1] /= 4\n",
    "    emb[0][:,2:5] /= np.pi\n",
    "    #Keep pdb waters within radius\n",
    "    d = batchify_dmatrix_computation_for_dmin(pdb.coords, pdb.water_coords)\n",
    "    pdb.water_coords = pdb.water_coords[np.where(d<=radius)[0]]\n",
    "    #Reform dataset\n",
    "    emb_reformed, batch_unique_waters = reform_dataset(emb[0], 10)\n",
    "    #Keep training labels for waters that have embedding\n",
    "    training_labels = emb[1][batch_unique_waters]\n",
    "    #Keep also the coordinates of the waters that have embedding.\n",
    "    embedded_water_coordinates = water_coords[batch_unique_waters]\n",
    "    #Save_Data\n",
    "    with h5py.File(f'../mlp_dataset/embedding_{prediction_dir}_dataset.h5', 'a') as f:\n",
    "        save_embedding_dataset(f, entry,\n",
    "                              (emb_reformed, embedded_water_coordinates, pdb.coords, pdb.atomname,\\\n",
    "                               pdb.resname, pdb.resnum, pdb.water_coords, emb[2], training_labels), range(9))\n",
    "    print(f'{count}/{len(pdb_list)}, {entry} finished in {round(time.time()-ct,2)} seconds. Total time {round((time.time()-st)/60,2)} minutes.', end='\\r')\n",
    "    count+=1\n",
    "et = time.time()\n",
    "print(f'Finished in {round(et-st,2)} seconds.')"
   ]
  }
 ],
 "metadata": {
  "kernelspec": {
   "display_name": "Python 3 (ipykernel)",
   "language": "python",
   "name": "python3"
  },
  "language_info": {
   "codemirror_mode": {
    "name": "ipython",
    "version": 3
   },
   "file_extension": ".py",
   "mimetype": "text/x-python",
   "name": "python",
   "nbconvert_exporter": "python",
   "pygments_lexer": "ipython3",
   "version": "3.8.13"
  }
 },
 "nbformat": 4,
 "nbformat_minor": 5
}
