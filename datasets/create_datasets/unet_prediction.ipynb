{
 "cells": [
  {
   "cell_type": "code",
   "execution_count": 1,
   "id": "9f2a9f4f-3c06-4236-806a-3b4d69cc6666",
   "metadata": {},
   "outputs": [],
   "source": [
    "import os\n",
    "import time\n",
    "import torch\n",
    "import numpy as np\n",
    "#Setting path\n",
    "import sys\n",
    "sys.path.append('../../')\n",
    "from models.unet_model import Unet3D\n",
    "from prediction.unet_prediction import unet_prediction\n",
    "from utils.utils import Config, load_checkpoint, PDB, preprocess_pdb_for_unet"
   ]
  },
  {
   "cell_type": "code",
   "execution_count": 2,
   "id": "2aee8b7d-0947-4ddf-a706-c5c1474ab1aa",
   "metadata": {},
   "outputs": [],
   "source": [
    "train_list = np.load('../data_lists/mlp_train_data.npy', allow_pickle=True)\n",
    "validation_list = np.load('../data_lists/mlp_validation_data.npy', allow_pickle=True)\n",
    "pdb_path = 'Here set the path to the directory of your pdb files'"
   ]
  },
  {
   "cell_type": "code",
   "execution_count": 5,
   "id": "4339d518-7298-44eb-b061-8781cd18fc11",
   "metadata": {},
   "outputs": [],
   "source": [
    "#Parameters for the prediction\n",
    "config = Config()\n",
    "config.radius, config.vs, config.pad, config.unet_batch_size, config.device, config.include_hetatm = 4, 0.8, 5, 18, 'cuda', True\n",
    "config.sigmoid, config.cap, config.prediction_pad, config.prediction_iterations = torch.nn.Sigmoid(), 0.12, 0, 3"
   ]
  },
  {
   "cell_type": "code",
   "execution_count": 4,
   "id": "46374966-5f21-4e6f-a162-371879a29eea",
   "metadata": {},
   "outputs": [
    {
     "name": "stdout",
     "output_type": "stream",
     "text": [
      "=> Loading checkpoint, epoch 374 unet model.\n"
     ]
    }
   ],
   "source": [
    "#Load model\n",
    "in_channels, out_channels, intermediate_channels = 3, 1, [16,32,64,128]\n",
    "#Initialize model and load data.\n",
    "model = Unet3D(in_channels, out_channels, intermediate_channels)\n",
    "model.to(config.device)\n",
    "checkpoint = '../../checkpoints/unet/Unet3D_36_epoch_374.pth.tar'\n",
    "load_checkpoint(torch.load(checkpoint, map_location=config.device), model, '374 unet model')"
   ]
  },
  {
   "cell_type": "code",
   "execution_count": 5,
   "id": "85c2ca08-7fef-4b26-bd6b-d0b0456e4cd0",
   "metadata": {
    "tags": []
   },
   "outputs": [],
   "source": [
    "#Compute and save unet prediction of water coordinates for your training dataset.\n",
    "pdb_list = train_list\n",
    "pdb_dir = 'mlp_train_36_374'\n",
    "st = time.time()\n",
    "for i, pdb_id in enumerate(pdb_list):\n",
    "    if os.path.exists(f'./unet_prediction_waters/{pdb_dir}/{pdb_id}_waters.npy'):\n",
    "        continue\n",
    "    #Load pdb\n",
    "    pdb = PDB(f'{pdb_path}{pdb_id}.pdb.gz')\n",
    "    #Preprocess pdb class object\n",
    "    pdb, atom_hetatm_coords, atom_hetatm_atomtype = preprocess_pdb_for_unet(pdb, config.radius, include_hetatm=config.include_hetatm)\n",
    "    #Predict\n",
    "    pred_coords, scores = unet_prediction(atom_hetatm_coords, atom_hetatm_atomtype, model, config)\n",
    "    np.save(f'./unet_prediction_waters/{pdb_dir}/{pdb_id}_waters.npy', pred_coords)\n",
    "    print(f'{i+1}/{len(pdb_list)}, {round((time.time()-st)/60, 2)} minutes have passed.', end='\\r')"
   ]
  },
  {
   "cell_type": "code",
   "execution_count": 6,
   "id": "cf87ff3e-d755-4169-8d9a-8411f9ebde53",
   "metadata": {},
   "outputs": [],
   "source": [
    "#Compute and save unet prediction of water coordinates for your validation dataset.\n",
    "pdb_list = validation_list\n",
    "pdb_dir = 'mlp_validation_36_374'\n",
    "st = time.time()\n",
    "for i, pdb_id in enumerate(pdb_list):\n",
    "    if os.path.exists(f'./unet_prediction_waters/{pdb_dir}/{pdb_id}_waters.npy'):\n",
    "        continue\n",
    "    #Load pdb\n",
    "    pdb = PDB(f'{pdb_path}{pdb_id}.pdb.gz')\n",
    "    #Preprocess pdb class object\n",
    "    pdb, atom_hetatm_coords, atom_hetatm_atomtype = preprocess_pdb_for_unet(pdb, config.radius, include_hetatm=config.include_hetatm)\n",
    "    #Predict\n",
    "    pred_coords, scores = unet_prediction(atom_hetatm_coords, atom_hetatm_atomtype, model, config)\n",
    "    np.save(f'./unet_prediction_waters/{pdb_dir}/{pdb_id}_waters.npy', pred_coords)\n",
    "    print(f'{i+1}/{len(pdb_list)}, {round((time.time()-st)/60, 2)} minutes have passed.', end='\\r')"
   ]
  }
 ],
 "metadata": {
  "kernelspec": {
   "display_name": "Python 3 (ipykernel)",
   "language": "python",
   "name": "python3"
  },
  "language_info": {
   "codemirror_mode": {
    "name": "ipython",
    "version": 3
   },
   "file_extension": ".py",
   "mimetype": "text/x-python",
   "name": "python",
   "nbconvert_exporter": "python",
   "pygments_lexer": "ipython3",
   "version": "3.8.13"
  }
 },
 "nbformat": 4,
 "nbformat_minor": 5
}
